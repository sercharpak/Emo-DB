{
 "cells": [
  {
   "cell_type": "markdown",
   "metadata": {},
   "source": [
    "# Introduction"
   ]
  },
  {
   "cell_type": "markdown",
   "metadata": {},
   "source": [
    "Do not spend too much time trying to get very tiny metrics improvement. Once you have a model with a correct predictive power, you should better spend time explaining your data cleaning & preparation pipeline as well as explanations & visualizations of the results.\n",
    "\n",
    "The goal is to see your fit with our company culture & engineering needs, spending 50h on an over-complicated approach will not give you bonus points compared to a simple, yet effective, to-the-point solution."
   ]
  },
  {
   "cell_type": "markdown",
   "metadata": {},
   "source": [
    "## About the data"
   ]
  },
  {
   "cell_type": "markdown",
   "metadata": {},
   "source": [
    "The dataset you will be working with is called Emo-DB and can be found [here](http://emodb.bilderbar.info/index-1280.html).\n",
    "\n",
    "It is a database containing samples of emotional speech in German. It contains samples labeled with one of 7 different emotions: Anger, Boredom, Disgust, Fear, Happiness, Sadness and Neutral. \n",
    "\n",
    "Please download the full database and refer to the documentation to understand how the samples are labeled (see \"Additional information\")\n",
    "   \n",
    "The goal of this project is to develop a model which is able to **classify samples of emotional speech**. Feel free to use any available library you would need, but beware of re-using someone else's code without mentionning it!"
   ]
  },
  {
   "cell_type": "markdown",
   "metadata": {},
   "source": [
    "## Deliverable"
   ]
  },
  {
   "cell_type": "markdown",
   "metadata": {},
   "source": [
    "The end-goal is to deliver us:\n",
    "* This report filled with your approach, in the form of an **iPython Notebook**.\n",
    "* A **5-10 slides PDF file**, containing a very brief presentation covering the following points:\n",
    "    * Introduction to the problem (what are we trying to achieve and why) - max 1 slide\n",
    "    * Libraries used - max 1 slide\n",
    "    * Data Processing Pipeline - max 2 slides\n",
    "    * Feature Engineering (if relevant) - max 1 slide\n",
    "    * Modeling - max 1 slide\n",
    "    * Results & Visualization - max 2 slides\n",
    "* The goal of the presentation is to make it **understandable by a business person**, apart from how modeling techniques which do not have to be explained how they work."
   ]
  },
  {
   "cell_type": "markdown",
   "metadata": {},
   "source": [
    "# Libraries Loading"
   ]
  },
  {
   "cell_type": "code",
   "execution_count": 1,
   "metadata": {},
   "outputs": [],
   "source": [
    "import numpy as np\n",
    "import pandas as pd\n",
    "import matplotlib.pyplot as plt\n",
    "%matplotlib inline"
   ]
  },
  {
   "cell_type": "code",
   "execution_count": 11,
   "metadata": {},
   "outputs": [],
   "source": [
    "import platform\n",
    "import glob\n",
    "import ntpath\n",
    "import os\n",
    "from scipy.io import wavfile"
   ]
  },
  {
   "cell_type": "markdown",
   "metadata": {},
   "source": [
    "# Data Preparation & Cleaning"
   ]
  },
  {
   "cell_type": "code",
   "execution_count": 4,
   "metadata": {},
   "outputs": [],
   "source": [
    "data_main_folder = 'data'\n",
    "wav_folder = 'wav'"
   ]
  },
  {
   "cell_type": "code",
   "execution_count": 7,
   "metadata": {},
   "outputs": [],
   "source": [
    "platform_system = platform.system()\n",
    "file_separator=''\n",
    "if(platform_system=='Windows'):\n",
    "    file_separator = '\\\\'\n",
    "else:#(platform_system=='Linux'):\n",
    "    file_separator = '/'"
   ]
  },
  {
   "cell_type": "code",
   "execution_count": 9,
   "metadata": {},
   "outputs": [],
   "source": [
    "wav_path = data_main_folder + file_separator + wav_folder"
   ]
  },
  {
   "cell_type": "code",
   "execution_count": 12,
   "metadata": {},
   "outputs": [],
   "source": [
    "wav_files = glob.glob(wav_path+file_separator+'*.wav')\n",
    "wav_files.sort()"
   ]
  },
  {
   "cell_type": "code",
   "execution_count": 15,
   "metadata": {},
   "outputs": [
    {
     "data": {
      "text/plain": [
       "['data\\\\wav\\\\03a01Fa.wav']"
      ]
     },
     "execution_count": 15,
     "metadata": {},
     "output_type": "execute_result"
    }
   ],
   "source": [
    "wav_files[:1]"
   ]
  },
  {
   "cell_type": "markdown",
   "metadata": {},
   "source": [
    "## About the data"
   ]
  },
  {
   "cell_type": "markdown",
   "metadata": {},
   "source": [
    "<h2>Additional Information</h2>\n",
    "\n",
    "\n",
    "Every utterance is named according to the same scheme:\n",
    "<ul><li>Positions 1-2: number of speaker\n",
    "    <li>Positions 3-5: code for text\n",
    "    <li>Position 6: emotion (sorry, letter stands for german emotion word)\n",
    "    <li>Position 7: if there are more than two versions these are numbered a, b, c ....\n",
    "</ul>\n",
    "\n",
    "Example: 03a01Fa.wav is the audio file from Speaker 03 speaking text a01 with the emotion \"Freude\" (Happiness).\n",
    "\n",
    "<h3>Information about the speakers</h3>\n",
    "\n",
    "<ul><li>03 - male, 31 years old\n",
    "    <li>08 - female, 34 years\n",
    "    <li>09 - female, 21 years\n",
    "    <li>10 - male, 32 years\n",
    "    <li>11 - male, 26 years\n",
    "    <li>12 - male, 30 years\n",
    "    <li>13 - female, 32 years\n",
    "    <li>14 - female, 35 years\n",
    "    <li>15 - male, 25 years\n",
    "    <li>16 - female, 31 years\n",
    "</ul>\n",
    "\n",
    "<table class=\"aussen\" border=\"0\" align=\"left\" width=\"100%\">\n",
    "<tr><td>\n",
    "\n",
    "<h3>Code of texts</h3>\n",
    "\n",
    "<table align=\"left\" width=\"800\" bgcolor=\"#313131\" border=\"1\" frame=\"solid\" rules=\"rows\" cellpadding=\"3\" cellspacing=\"1\">\n",
    "<tr><th>code</th><th>text (german)</th><th>try of an english translation</th></tr>\n",
    "<tr><td class=\"mittig\">a01</td><td>Der Lappen liegt auf dem Eisschrank.</td><td>The tablecloth is lying on the frigde.</td></tr>\n",
    "<tr><td class=\"mittig\">a02</td><td>Das will sie am Mittwoch abgeben.</td><td>She will hand it in on Wednesday.</td></tr>\n",
    "<tr><td class=\"mittig\">a04</td><td>Heute abend könnte ich es ihm sagen.</td><td>Tonight I could tell him.</td></tr>\n",
    "<tr><td class=\"mittig\">a05</td><td>Das schwarze Stück Papier befindet sich da oben neben dem Holzstück.</td><td>The black sheet of paper is located up there besides the piece of timber.</td></tr>\n",
    "<tr><td class=\"mittig\">a07</td><td>In sieben Stunden wird es soweit sein.</td><td>In seven hours it will be.</td></tr>\n",
    "<tr><td class=\"mittig\">b01</td><td>Was sind denn das für Tüten, die da unter dem Tisch stehen?</td><td>What about the bags standing there under the table?</td></tr>\n",
    "<tr><td class=\"mittig\">b02</td><td>Sie haben es gerade hochgetragen und jetzt gehen sie wieder runter.</td><td>They just carried it upstairs and now they are going down again.</td></tr>\n",
    "<tr><td class=\"mittig\">b03</td><td>An den Wochenenden bin ich jetzt immer nach Hause gefahren und habe Agnes besucht.</td><td>Currently at the weekends I always went home and saw Agnes.</td></tr>\n",
    "<tr><td class=\"mittig\">b09</td><td>Ich will das eben wegbringen und dann mit Karl was trinken gehen.</td><td>I will just discard this and then go for a drink with Karl.</td></tr>\n",
    "<tr><td class=\"mittig\">b10</td><td>Die wird auf dem Platz sein, wo wir sie immer hinlegen.</td><td>It will be in the place where we always store it.</td></tr>\n",
    "</table>\n",
    "<p>&nbsp;<br><p>\n",
    "\n",
    "</td></tr>\n",
    "\n",
    "<tr><td>\n",
    "\n",
    "<h3><br>Code of emotions:</h3>\n",
    "\n",
    "<table align=\"left\" width=\"600\" bgcolor=\"#313131\" border=\"1\" frame=\"solid\" rules=\"rows\" cellpadding=\"3\" cellspacing=\"1\">\n",
    "<tr><th>letter</th><th>emotion (english)</th><th>letter</th><th>emotion (german)</th></tr>\n",
    "<tr><td class=\"mittig\">A</td><td>anger</td><td class=\"mittig\">W</td><td>Ärger (Wut)</td></tr>\n",
    "<tr><td class=\"mittig\">B</td><td>boredom</td><td class=\"mittig\">L</td><td>Langeweile</td></tr>\n",
    "<tr><td class=\"mittig\">D</td><td>disgust</td><td class=\"mittig\">E</td><td>Ekel</td></tr>\n",
    "<tr><td class=\"mittig\">F</td><td>anxiety/fear</td><td class=\"mittig\">A</td><td>Angst</td></tr>\n",
    "<tr><td class=\"mittig\">H</td><td>happiness</td><td class=\"mittig\">F</td><td>Freude</td></tr>\n",
    "<tr><td class=\"mittig\">S</td><td>sadness</td><td class=\"mittig\">T</td><td>Trauer</td></tr>\n",
    "<tr><td colspan=\"4\">N = neutral version</td></tr>\n",
    "\n",
    "</td></tr>\n",
    "</table>\n",
    "\n",
    "</table>\n"
   ]
  },
  {
   "cell_type": "markdown",
   "metadata": {},
   "source": [
    "# Constructing the dataset"
   ]
  },
  {
   "cell_type": "code",
   "execution_count": null,
   "metadata": {},
   "outputs": [],
   "source": []
  },
  {
   "cell_type": "code",
   "execution_count": 16,
   "metadata": {},
   "outputs": [],
   "source": [
    "file_wav = wav_files[0]\n",
    "path, filename = os.path.split(file_wav)\n",
    "filename, file_extension = os.path.splitext(filename)"
   ]
  },
  {
   "cell_type": "code",
   "execution_count": 28,
   "metadata": {},
   "outputs": [],
   "source": [
    "individual_number = int(filename[0:2])\n",
    "code_text = filename[2:5]\n",
    "emotion_label = filename[5]"
   ]
  },
  {
   "cell_type": "code",
   "execution_count": 29,
   "metadata": {},
   "outputs": [
    {
     "data": {
      "text/plain": [
       "'F'"
      ]
     },
     "execution_count": 29,
     "metadata": {},
     "output_type": "execute_result"
    }
   ],
   "source": [
    "emotion_label"
   ]
  },
  {
   "cell_type": "code",
   "execution_count": null,
   "metadata": {},
   "outputs": [],
   "source": []
  },
  {
   "cell_type": "code",
   "execution_count": null,
   "metadata": {},
   "outputs": [],
   "source": []
  },
  {
   "cell_type": "code",
   "execution_count": null,
   "metadata": {},
   "outputs": [],
   "source": []
  },
  {
   "cell_type": "markdown",
   "metadata": {},
   "source": [
    "# Feature Engineering & Modeling"
   ]
  },
  {
   "cell_type": "code",
   "execution_count": null,
   "metadata": {
    "collapsed": true
   },
   "outputs": [],
   "source": []
  },
  {
   "cell_type": "markdown",
   "metadata": {},
   "source": [
    "# Results & Visualizations"
   ]
  },
  {
   "cell_type": "code",
   "execution_count": null,
   "metadata": {
    "collapsed": true
   },
   "outputs": [],
   "source": []
  }
 ],
 "metadata": {
  "kernelspec": {
   "display_name": "Python 3",
   "language": "python",
   "name": "python3"
  },
  "language_info": {
   "codemirror_mode": {
    "name": "ipython",
    "version": 3
   },
   "file_extension": ".py",
   "mimetype": "text/x-python",
   "name": "python",
   "nbconvert_exporter": "python",
   "pygments_lexer": "ipython3",
   "version": "3.7.1"
  }
 },
 "nbformat": 4,
 "nbformat_minor": 2
}
